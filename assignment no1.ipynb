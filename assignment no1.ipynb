{
 "cells": [
  {
   "cell_type": "markdown",
   "id": "b433109e",
   "metadata": {},
   "source": [
    "Ans.1\n",
    "Values are 'hello', -87.8 , 6\n",
    "and, expressions are *, -, /"
   ]
  },
  {
   "cell_type": "markdown",
   "id": "746f6091",
   "metadata": {},
   "source": [
    "Ans2. string is a type of data which are stored inside the variable whereas variable is a store of data information(like, int, str, boolean, etc.)"
   ]
  },
  {
   "cell_type": "markdown",
   "id": "babc3fe8",
   "metadata": {},
   "source": [
    "Ans3. three different types of data types are as follows:\n",
    "a. str= this type of data type stores data in text type\n",
    "b. int= this type of data type stoer data in numeric value\n",
    "c. list= this type of data type are used to store value in a sequence"
   ]
  },
  {
   "cell_type": "markdown",
   "id": "47d582d8",
   "metadata": {},
   "source": [
    "Ans4. expression consist of variable and operators. all expressions interpret the variables and the operators given in the code and compiles it into the new value"
   ]
  },
  {
   "cell_type": "markdown",
   "id": "ae9eef7d",
   "metadata": {},
   "source": [
    "Ans5. Statements are commands or an action like print() or spam=10, whereas expressions are combination of variables and operators that gives us the new value"
   ]
  },
  {
   "cell_type": "markdown",
   "id": "895f518f",
   "metadata": {},
   "source": [
    "Ans6. "
   ]
  },
  {
   "cell_type": "code",
   "execution_count": 2,
   "id": "30284d1c",
   "metadata": {},
   "outputs": [
    {
     "data": {
      "text/plain": [
       "23"
      ]
     },
     "execution_count": 2,
     "metadata": {},
     "output_type": "execute_result"
    }
   ],
   "source": [
    "bacon=22\n",
    "bacon + 1"
   ]
  },
  {
   "cell_type": "markdown",
   "id": "0ccc9a52",
   "metadata": {},
   "source": [
    "Ans7. both the expression will yield 'spamspamspam'"
   ]
  },
  {
   "cell_type": "code",
   "execution_count": 3,
   "id": "9d3ef39a",
   "metadata": {},
   "outputs": [
    {
     "data": {
      "text/plain": [
       "'spamspamspam'"
      ]
     },
     "execution_count": 3,
     "metadata": {},
     "output_type": "execute_result"
    }
   ],
   "source": [
    "'spam' + 'spamspam'"
   ]
  },
  {
   "cell_type": "code",
   "execution_count": 4,
   "id": "c12eb12a",
   "metadata": {},
   "outputs": [
    {
     "data": {
      "text/plain": [
       "'spamspamspam'"
      ]
     },
     "execution_count": 4,
     "metadata": {},
     "output_type": "execute_result"
    }
   ],
   "source": [
    "'spam'*3"
   ]
  },
  {
   "cell_type": "markdown",
   "id": "c8d7c9a0",
   "metadata": {},
   "source": [
    "Ans8. The reason why 100 is not a valid variable name is that 100 is a literal value and literal value (such as str, int, etc) cannot be used as variable name. However, eggs unless made into 'eggs'(str type) is a valid variable name as it is not a literal value. "
   ]
  },
  {
   "cell_type": "markdown",
   "id": "56388e3c",
   "metadata": {},
   "source": [
    "Ans9. The int() , float() , and str( ) functions can be used respectively to get the integer, floating-point number, and string versions of the value."
   ]
  },
  {
   "cell_type": "markdown",
   "id": "dca7f96e",
   "metadata": {},
   "source": [
    "Ans10. This expression causes an error because compiler can only concatenate str type with another str type and not int type. This error can be fixed by converting 99(int) to '99'(str)"
   ]
  },
  {
   "cell_type": "code",
   "execution_count": 7,
   "id": "09e468b8",
   "metadata": {},
   "outputs": [
    {
     "data": {
      "text/plain": [
       "'I have eaten 99 burritos.'"
      ]
     },
     "execution_count": 7,
     "metadata": {},
     "output_type": "execute_result"
    }
   ],
   "source": [
    "'I have eaten ' + '99' + ' burritos.'"
   ]
  },
  {
   "cell_type": "code",
   "execution_count": null,
   "id": "262b6637",
   "metadata": {},
   "outputs": [],
   "source": []
  }
 ],
 "metadata": {
  "kernelspec": {
   "display_name": "Python 3 (ipykernel)",
   "language": "python",
   "name": "python3"
  },
  "language_info": {
   "codemirror_mode": {
    "name": "ipython",
    "version": 3
   },
   "file_extension": ".py",
   "mimetype": "text/x-python",
   "name": "python",
   "nbconvert_exporter": "python",
   "pygments_lexer": "ipython3",
   "version": "3.9.7"
  }
 },
 "nbformat": 4,
 "nbformat_minor": 5
}
